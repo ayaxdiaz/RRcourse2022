{
 "cells": [
  {
   "cell_type": "markdown",
   "metadata": {},
   "source": [
    "Exercise\n",
    "1. Write a function in your preferred language which allows the user to convert the temperature in Fahrenheit degrees to Celsius degrees or Kelvins, depending on target parameter. The function should raise an error for any other temperature scale.\n",
    "2. Check whether 50, 70, and 90 degrees Fahrenheit are converted correctly to Celsius.\n",
    "3. Check whether the function raises an error when Réaumur scale is passed to the target parameter.\n",
    "4. Check whether -500, 0, and 1000 degrees Fahrenheit are converted correctly to Kelvin. (hint: should they all be?)"
   ]
  },
  {
   "cell_type": "code",
   "execution_count": 2,
   "metadata": {},
   "outputs": [],
   "source": [
    "def convert(f, target='c'):\n",
    "    if target == 'c':\n",
    "        return (f - 32) / 1.8\n",
    "    elif target == 'k':\n",
    "        return ((f - 32) / 1.8) + 273.15\n",
    "    elif target == 'r':\n",
    "        return ((f - 32) / 2.25)\n",
    "    else:\n",
    "        raise Exception('wrong target')"
   ]
  },
  {
   "cell_type": "code",
   "execution_count": 3,
   "metadata": {},
   "outputs": [
    {
     "name": "stderr",
     "output_type": "stream",
     "text": [
      "E\n",
      "======================================================================\n",
      "ERROR: C:\\Users\\Usuario\\AppData\\Roaming\\jupyter\\runtime\\kernel-e1a73107-85fb-4621-9b51-fb299e2d28ed (unittest.loader._FailedTest)\n",
      "----------------------------------------------------------------------\n",
      "AttributeError: module '__main__' has no attribute 'C:\\Users\\Usuario\\AppData\\Roaming\\jupyter\\runtime\\kernel-e1a73107-85fb-4621-9b51-fb299e2d28ed'\n",
      "\n",
      "----------------------------------------------------------------------\n",
      "Ran 1 test in 0.006s\n",
      "\n",
      "FAILED (errors=1)\n"
     ]
    },
    {
     "ename": "SystemExit",
     "evalue": "True",
     "output_type": "error",
     "traceback": [
      "An exception has occurred, use %tb to see the full traceback.\n",
      "\u001b[1;31mSystemExit\u001b[0m\u001b[1;31m:\u001b[0m True\n"
     ]
    },
    {
     "name": "stderr",
     "output_type": "stream",
     "text": [
      "C:\\Users\\Usuario\\anaconda3\\lib\\site-packages\\IPython\\core\\interactiveshell.py:3426: UserWarning: To exit: use 'exit', 'quit', or Ctrl-D.\n",
      "  warn(\"To exit: use 'exit', 'quit', or Ctrl-D.\", stacklevel=1)\n"
     ]
    }
   ],
   "source": [
    "import unittest\n",
    "import sys\n",
    "\n",
    "class TestExercise(unittest.TestCase):\n",
    "    def test_celsius(self):\n",
    "        self.assertEqual(convert(50,'c'), 10)\n",
    "        self.assertEqual(convert(70,'c'), 21.111)\n",
    "        self.assertEqual(convert(90,'c'), 32.222)\n",
    "\n",
    "    def test_kelvin(self):\n",
    "        self.assertEqual(convert(-500,'k'), -22.4056)\n",
    "        self.assertEqual(convert(0,'k'), 255.372)\n",
    "        self.assertEqual(convert(1000,'k'), 810.928)\n",
    "        \n",
    "    def test_reaumur(self):\n",
    "        self.assertEqual(convert(50,'r'), 8)\n",
    "        self.assertEqual(convert(70,'r'), 16.8888)\n",
    "        self.assertEqual(convert(90,'r'), 25.7777)\n",
    "        \n",
    "    def test_wrong_inputs(self):\n",
    "        with self.assertRaises(TypeError):\n",
    "            divide('k', 'c')\n",
    "        with self.assertRaises(TypeError):\n",
    "            divide(False, True)\n",
    "\n",
    "            \n",
    "if __name__ == '__main__':\n",
    "    unittest.main()"
   ]
  },
  {
   "cell_type": "code",
   "execution_count": null,
   "metadata": {},
   "outputs": [],
   "source": []
  },
  {
   "cell_type": "code",
   "execution_count": null,
   "metadata": {},
   "outputs": [],
   "source": []
  },
  {
   "cell_type": "code",
   "execution_count": null,
   "metadata": {},
   "outputs": [],
   "source": []
  }
 ],
 "metadata": {
  "kernelspec": {
   "display_name": "Python 3",
   "language": "python",
   "name": "python3"
  },
  "language_info": {
   "codemirror_mode": {
    "name": "ipython",
    "version": 3
   },
   "file_extension": ".py",
   "mimetype": "text/x-python",
   "name": "python",
   "nbconvert_exporter": "python",
   "pygments_lexer": "ipython3",
   "version": "3.8.5"
  }
 },
 "nbformat": 4,
 "nbformat_minor": 4
}
